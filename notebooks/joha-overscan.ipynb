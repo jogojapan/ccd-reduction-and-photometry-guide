{
 "cells": [
  {
   "cell_type": "code",
   "execution_count": null,
   "id": "582fe3e5-85bd-47e6-954e-e0c6ba1d4190",
   "metadata": {},
   "outputs": [],
   "source": [
    "from pathlib import Path\n",
    "\n",
    "from astropy.nddata import CCDData\n",
    "from astropy.visualization import hist\n",
    "from ccdproc import subtract_overscan\n",
    "import matplotlib.pyplot as plt\n",
    "\n",
    "from convenience_functions import show_image\n",
    "\n",
    "plt.style.use('guide.mplstyle')"
   ]
  },
  {
   "cell_type": "code",
   "execution_count": null,
   "id": "c358d1b0-40d0-4ddd-ab26-ad5006d71bd2",
   "metadata": {},
   "outputs": [],
   "source": [
    "cryo_path = Path('example-cryo-LFC')\n",
    "bias_lfc = CCDData.read(cryo_path / 'ccd.001.0.fits', unit='count')\n",
    "science_g_lfc = CCDData.read(cryo_path / 'ccd.037.0.fits', unit='count')\n",
    "flat_g_lfc = CCDData.read(cryo_path / 'ccd.014.0.fits', unit='count')"
   ]
  },
  {
   "cell_type": "code",
   "execution_count": null,
   "id": "0d8de21c-40b2-443c-969f-517b7af58961",
   "metadata": {},
   "outputs": [],
   "source": [
    "bias_lfc.shape"
   ]
  },
  {
   "cell_type": "code",
   "execution_count": null,
   "id": "56184b01-6086-4a63-ac39-a40b96350a07",
   "metadata": {},
   "outputs": [],
   "source": [
    "plt.figure(figsize=(20,10))\n",
    "plt.plot(science_g_lfc.data.mean(axis=0), label='Science image')\n",
    "plt.plot(bias_lfc.data.mean(axis=0), label='Bias image')\n",
    "plt.plot(flat_g_lfc.data.mean(axis=0), label='Flat image')\n",
    "plt.grid()\n",
    "plt.axvline(x=2048, color='black', linewidth=3, linestyle='dashed', label='start of overscan')\n",
    "plt.legend()\n",
    "plt.ylim(1000, 2000)\n",
    "plt.xlim(2040, 2090)\n",
    "plt.xlabel('pixel number')\n",
    "plt.ylabel('Counts')\n",
    "plt.title('Overscan region, averaged over all rows')"
   ]
  },
  {
   "cell_type": "code",
   "execution_count": null,
   "id": "df85f81f-0212-4904-a33e-0be67021efa6",
   "metadata": {},
   "outputs": [],
   "source": [
    "therma_path = Path('example-thermo-electric')\n",
    "kelt = CCDData.read(therma_path / 'kelt-16-b-S001-R001-C084-r.fit', unit='adu')\n",
    "dark1000 = CCDData.read('dark-test-0002d1000.fit.bz2', unit='adu')\n",
    "flat = CCDData.read(therma_path / 'AutoFlat-PANoRot-r-Bin1-006.fit', unit='adu')\n",
    "master = CCDData.read('combined_bias_100_images.fit.bz2', unit='adu')"
   ]
  },
  {
   "cell_type": "code",
   "execution_count": null,
   "id": "cd03b451-51b6-4d4a-866d-d36ff5938cd6",
   "metadata": {},
   "outputs": [],
   "source": [
    "plt.figure(figsize=(20,10))\n",
    "\n",
    "plt.plot(kelt.data.mean(axis=0), label='night sky average')\n",
    "plt.plot(master.data.mean(axis=0), label='100 bias combined')\n",
    "plt.plot(dark1000.data.mean(axis=0), label='1000sec dark average')\n",
    "plt.plot(flat.data.mean(axis=0), label='flat average')\n",
    "\n",
    "plt.grid()\n",
    "plt.axvline(x=4096, color='black', linewidth=3, linestyle='dashed', label='start of overscan')\n",
    "plt.legend()\n",
    "plt.xlim(4090, 4110)\n",
    "plt.ylim(900, 1300)"
   ]
  }
 ],
 "metadata": {
  "kernelspec": {
   "display_name": "Python 3 (ipykernel)",
   "language": "python",
   "name": "python3"
  },
  "language_info": {
   "codemirror_mode": {
    "name": "ipython",
    "version": 3
   },
   "file_extension": ".py",
   "mimetype": "text/x-python",
   "name": "python",
   "nbconvert_exporter": "python",
   "pygments_lexer": "ipython3",
   "version": "3.10.13"
  }
 },
 "nbformat": 4,
 "nbformat_minor": 5
}
