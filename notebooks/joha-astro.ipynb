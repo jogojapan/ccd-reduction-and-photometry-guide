{
 "cells": [
  {
   "cell_type": "code",
   "execution_count": null,
   "id": "cfa9deeb-6c90-4c8e-aee3-a0a8171451f3",
   "metadata": {},
   "outputs": [],
   "source": [
    "import os\n",
    "\n",
    "from matplotlib import pyplot as plt\n",
    "import numpy as np\n",
    "from photutils.aperture import EllipticalAperture"
   ]
  },
  {
   "cell_type": "code",
   "execution_count": null,
   "id": "2853844f-24a6-41e9-b6e4-b77f53aeb859",
   "metadata": {},
   "outputs": [],
   "source": [
    "plt.style.use('guide.mplstyle')"
   ]
  },
  {
   "cell_type": "code",
   "execution_count": null,
   "id": "bd3be0d4-7664-426c-95a3-5c1535fa75fd",
   "metadata": {},
   "outputs": [],
   "source": [
    "import sys\n",
    "\n",
    "seed = os.getenv('GUIDE_RANDOM_SEED', None)\n",
    "if seed is not None:\n",
    "    seed = int(seed)\n",
    "    sys.stdout.write('seed is %i\\n' % seed)\n",
    "else:\n",
    "    sys.stdout.write('seed is None\\n')\n",
    "\n",
    "noise_rng = np.random.default_rng(seed)"
   ]
  },
  {
   "cell_type": "code",
   "execution_count": null,
   "id": "f848ce6d-c02f-4263-ab62-66bc5ef2e890",
   "metadata": {},
   "outputs": [],
   "source": [
    "from convenience_functions import show_image\n",
    "import math"
   ]
  },
  {
   "cell_type": "code",
   "execution_count": null,
   "id": "85540c8b-c8bb-4ce6-80f4-e6dbfc24c53f",
   "metadata": {},
   "outputs": [],
   "source": [
    "synthetic_image = np.zeros([1000,1000])"
   ]
  },
  {
   "cell_type": "code",
   "execution_count": null,
   "id": "9af8aa6e-ca2d-4c44-b26b-5f1cee4523ff",
   "metadata": {},
   "outputs": [],
   "source": [
    "show_image(synthetic_image, cmap='gray')"
   ]
  },
  {
   "cell_type": "code",
   "execution_count": null,
   "id": "e6a652aa-1370-4dca-b269-711e4fcacf27",
   "metadata": {},
   "outputs": [],
   "source": [
    "#from colorspacious import cspace_converter\n",
    "\n",
    "import matplotlib.pyplot as plt\n",
    "import numpy as np\n",
    "\n",
    "import matplotlib as mpl\n",
    "\n",
    "cmaps = {}\n",
    "\n",
    "gradient = np.linspace(0, 1, 256)\n",
    "gradient = np.vstack((gradient, gradient))\n",
    "\n",
    "\n",
    "def plot_color_gradients(category, cmap_list):\n",
    "    # Create figure and adjust figure height to number of colormaps\n",
    "    nrows = len(cmap_list)\n",
    "    figh = 0.35 + 0.15 + (nrows + (nrows - 1) * 0.1) * 0.22\n",
    "    fig, axs = plt.subplots(nrows=nrows + 1, figsize=(6.4, figh))\n",
    "    fig.subplots_adjust(top=1 - 0.35 / figh, bottom=0.15 / figh,\n",
    "                        left=0.2, right=0.99)\n",
    "    axs[0].set_title(f'{category} colormaps', fontsize=14)\n",
    "\n",
    "    for ax, name in zip(axs, cmap_list):\n",
    "        ax.imshow(gradient, aspect='auto', cmap=mpl.colormaps[name])\n",
    "        ax.text(-0.01, 0.5, name, va='center', ha='right', fontsize=10,\n",
    "                transform=ax.transAxes)\n",
    "\n",
    "    # Turn off *all* ticks & spines, not just the ones with colormaps.\n",
    "    for ax in axs:\n",
    "        ax.set_axis_off()\n",
    "\n",
    "    # Save colormap list for later.\n",
    "    cmaps[category] = cmap_list\n"
   ]
  },
  {
   "cell_type": "code",
   "execution_count": null,
   "id": "a6780eb3-14f6-40e7-9ab7-86409ce8d07e",
   "metadata": {},
   "outputs": [],
   "source": [
    "plot_color_gradients('Perceptually Uniform Sequential',\n",
    "                     ['gray', 'viridis', 'plasma', 'inferno', 'magma', 'cividis'])"
   ]
  },
  {
   "cell_type": "code",
   "execution_count": null,
   "id": "fbe64853-b79e-44da-afcf-6c8201b22cc2",
   "metadata": {},
   "outputs": [],
   "source": [
    "def read_noise(image, amount, gain=1):\n",
    "    \"\"\"\n",
    "    Generate simulated read noise.\n",
    "    \n",
    "    image: numpy array\n",
    "        Image whose shape the noise array should match.\n",
    "    amount : float\n",
    "        Amount of read noise, in electrons.\n",
    "    gain : float, optional\n",
    "        Gain of the camera, in units of electrons/ADU.\n",
    "    \"\"\"\n",
    "    shape = image.shape    \n",
    "    noise = noise_rng.normal(scale=amount/gain, size=shape)\n",
    "    \n",
    "    return noise"
   ]
  },
  {
   "cell_type": "code",
   "execution_count": null,
   "id": "2de31c5d-fc46-4aeb-90ba-c7e791d05476",
   "metadata": {},
   "outputs": [],
   "source": [
    "plt.figure()\n",
    "noise_im = synthetic_image + read_noise(synthetic_image,5)\n",
    "show_image(noise_im, cmap='gray')"
   ]
  },
  {
   "cell_type": "code",
   "execution_count": null,
   "id": "ea5fa2a3-9ce0-4630-af2f-7ddb467002b7",
   "metadata": {},
   "outputs": [],
   "source": [
    "def bias(image, value, realistic=False):\n",
    "    \"\"\"\n",
    "    Generate simulated bias image.\n",
    "    \n",
    "    Parameters\n",
    "    ----------\n",
    "    \n",
    "    image: numpy array\n",
    "        Image whose shape the bias array should match.\n",
    "    value: float\n",
    "        Bias level to add.\n",
    "    realistic : bool, optional\n",
    "        If ``True``, add some columns with somewhat higher bias value (a not uncommon thing)\n",
    "    \"\"\"\n",
    "    # This is the whole thing: the bias is really suppose to be a constant offset!\n",
    "    bias_im = np.zeros_like(image) + value\n",
    "    \n",
    "    # If we want a more realistic bias we need to do a little more work. \n",
    "    if realistic:\n",
    "        shape = image.shape\n",
    "        number_of_colums = 5\n",
    "        \n",
    "        # We want a random-looking variation in the bias, but unlike the readnoise the bias should \n",
    "        # *not* change from image to image, so we make sure to always generate the same \"random\" numbers.\n",
    "        rng = np.random.RandomState(seed=8392)  # 20180520\n",
    "        columns = rng.randint(0, shape[1], size=number_of_colums)\n",
    "        # This adds a little random-looking noise into the data.\n",
    "        col_pattern = rng.randint(0, int(0.1 * value), size=shape[0])\n",
    "        \n",
    "        # Make the chosen columns a little brighter than the rest...\n",
    "        for c in columns:\n",
    "            bias_im[:, c] = value + col_pattern\n",
    "            \n",
    "    return bias_im"
   ]
  },
  {
   "cell_type": "code",
   "execution_count": null,
   "id": "487c7e31-a66a-43cf-9e31-13f4f3586527",
   "metadata": {},
   "outputs": [],
   "source": [
    "bias_im = bias(noise_im, 1100, realistic=True)\n",
    "show_image(bias_im, cmap='gray', figsize=(10, 10))\n",
    "plt.title('Bias plus Noise', fontsize='20')"
   ]
  },
  {
   "cell_type": "code",
   "execution_count": null,
   "id": "160775f8-4f73-4dc9-ba35-dedffa1832d3",
   "metadata": {},
   "outputs": [],
   "source": [
    "def dark_current(image, current, exposure_time, gain=1.0, hot_pixels=False):\n",
    "    \"\"\"\n",
    "    Simulate dark current in a CCD, optionally including hot pixels.\n",
    "    \n",
    "    Parameters\n",
    "    ----------\n",
    "    \n",
    "    image : numpy array\n",
    "        Image whose shape the cosmic array should match.\n",
    "    current : float\n",
    "        Dark current, in electrons/pixel/second, which is the way manufacturers typically \n",
    "        report it.\n",
    "    exposure_time : float\n",
    "        Length of the simulated exposure, in seconds.\n",
    "    gain : float, optional\n",
    "        Gain of the camera, in units of electrons/ADU.\n",
    "    strength : float, optional\n",
    "        Pixel count in the cosmic rays.    \n",
    "    \"\"\"\n",
    "    \n",
    "    # dark current for every pixel; we'll modify the current for some pixels if \n",
    "    # the user wants hot pixels.\n",
    "    base_current = current * exposure_time / gain\n",
    "    \n",
    "    # This random number generation should change on each call.\n",
    "    dark_im = noise_rng.poisson(base_current, size=image.shape)\n",
    "        \n",
    "    if hot_pixels:\n",
    "        # We'll set 0.01% of the pixels to be hot; that is probably too high but should \n",
    "        # ensure they are visible.\n",
    "        y_max, x_max = dark_im.shape\n",
    "        \n",
    "        n_hot = int(0.0001 * x_max * y_max)\n",
    "        \n",
    "        # Like with the bias image, we want the hot pixels to always be in the same places\n",
    "        # (at least for the same image size) but also want them to appear to be randomly\n",
    "        # distributed. So we set a random number seed to ensure we always get the same thing.\n",
    "        rng = np.random.RandomState(16201649)\n",
    "        hot_x = rng.randint(0, x_max, size=n_hot)\n",
    "        hot_y = rng.randint(0, y_max, size=n_hot)\n",
    "        \n",
    "        hot_current = 10000 * current\n",
    "        \n",
    "        dark_im[(hot_y, hot_x)] = hot_current * exposure_time / gain\n",
    "    return dark_im"
   ]
  },
  {
   "cell_type": "code",
   "execution_count": null,
   "id": "e6a3cf65-e1df-4b5e-80fe-a59817f89ae6",
   "metadata": {},
   "outputs": [],
   "source": [
    "dark_exposure = 100\n",
    "dark_cur = 0.1\n",
    "dark_im = dark_current(bias_im, dark_cur, dark_exposure, hot_pixels=True)\n",
    "show_image(dark_im+bias_im+noise_im, cmap='gray')\n",
    "title_string = 'Plus dark current, {dark_cur} $e^-$/sec/pix\\n{dark_exposure} sec exposure'.format(dark_cur=dark_cur, dark_exposure=dark_exposure)\n",
    "plt.title(title_string, fontsize='20');"
   ]
  },
  {
   "cell_type": "code",
   "execution_count": null,
   "id": "d9dc880b-231f-4784-b7d7-718d7f390df6",
   "metadata": {},
   "outputs": [],
   "source": [
    "def sky_background(image, sky_counts, gain=1):\n",
    "    \"\"\"\n",
    "    Generate sky background, optionally including a gradient across the image (because\n",
    "    some times Moons happen).\n",
    "    \n",
    "    Parameters\n",
    "    ----------\n",
    "    \n",
    "    image : numpy array\n",
    "        Image whose shape the cosmic array should match.\n",
    "    sky_counts : float\n",
    "        The target value for the number of counts (as opposed to electrons or \n",
    "        photons) from the sky.\n",
    "    gain : float, optional\n",
    "        Gain of the camera, in units of electrons/ADU.\n",
    "    \"\"\"\n",
    "    sky_im = noise_rng.poisson(sky_counts * gain, size=image.shape) / gain\n",
    "    \n",
    "    return sky_im"
   ]
  },
  {
   "cell_type": "code",
   "execution_count": null,
   "id": "b8b88c50-8a9a-4cd9-bd1c-4f8b7c6a5c74",
   "metadata": {},
   "outputs": [],
   "source": [
    "sky_level = 20\n",
    "sky_only = sky_background(synthetic_image, sky_level)\n",
    "show_image(sky_only, cmap='gray')\n",
    "plt.title('Sky background only, {} counts input'.format(sky_level), fontsize=20)"
   ]
  },
  {
   "cell_type": "code",
   "execution_count": null,
   "id": "f8f1f815-7132-4a86-968e-ca23a23daa30",
   "metadata": {},
   "outputs": [],
   "source": [
    "sky_dark_bias_noise_im = dark_im+bias_im+noise_im + sky_only\n",
    "show_image(sky_dark_bias_noise_im, cmap='gray')\n",
    "plt.title('Sky, dark, bias and noise\\n(Realistic image of clouds)', fontsize=20);"
   ]
  },
  {
   "cell_type": "code",
   "execution_count": null,
   "id": "7bc26d5e-7bd6-4370-956d-b29b9ea9d8b0",
   "metadata": {},
   "outputs": [],
   "source": [
    "def stars(image, number, max_counts=10000, gain=1):\n",
    "    \"\"\"\n",
    "    Add some stars to the image.\n",
    "    \"\"\"\n",
    "    from photutils.datasets import make_random_gaussians_table, make_gaussian_sources_image\n",
    "    # Most of the code below is a direct copy/paste from\n",
    "    # https://photutils.readthedocs.io/en/stable/_modules/photutils/datasets/make.html#make_100gaussians_image\n",
    "    \n",
    "    flux_range = [max_counts/10, max_counts]\n",
    "    \n",
    "    y_max, x_max = image.shape\n",
    "    xmean_range = [0.1 * x_max, 0.9 * x_max]\n",
    "    ymean_range = [0.1 * y_max, 0.9 * y_max]\n",
    "    xstddev_range = [4, 4]\n",
    "    ystddev_range = [4, 4]\n",
    "    params = dict([('amplitude', flux_range),\n",
    "                  ('x_mean', xmean_range),\n",
    "                  ('y_mean', ymean_range),\n",
    "                  ('x_stddev', xstddev_range),\n",
    "                  ('y_stddev', ystddev_range),\n",
    "                  ('theta', [0, 2*np.pi])])\n",
    "\n",
    "    sources = make_random_gaussians_table(number, params,\n",
    "                                          seed=12345)\n",
    "    \n",
    "    star_im = make_gaussian_sources_image(image.shape, sources)\n",
    "    \n",
    "    return star_im"
   ]
  },
  {
   "cell_type": "code",
   "execution_count": null,
   "id": "a66ff31d-1328-4517-80e9-6963a784cfa3",
   "metadata": {},
   "outputs": [],
   "source": [
    "stars_only = stars(synthetic_image, 50, max_counts=2000)\n",
    "show_image(stars_only, cmap='gray', percu=99.9)\n",
    "plt.title('Stars only'.format(stars_only), fontsize=20)"
   ]
  },
  {
   "cell_type": "code",
   "execution_count": null,
   "id": "e2d29450-303a-40ab-9bb1-ec9953c836fb",
   "metadata": {},
   "outputs": [],
   "source": [
    "stars_with_background = sky_dark_bias_noise_im + stars_only"
   ]
  },
  {
   "cell_type": "code",
   "execution_count": null,
   "id": "c3b197b6-b35b-419f-83d8-55994accfc58",
   "metadata": {},
   "outputs": [],
   "source": [
    "show_image(stars_with_background, cmap='gray', percu=99.9)\n",
    "plt.title('Stars with noise, bias, dark, sky'.format(stars_with_background), fontsize=20)"
   ]
  },
  {
   "cell_type": "code",
   "execution_count": null,
   "id": "07beb64b-d739-4ddd-8f52-39e907b7c397",
   "metadata": {},
   "outputs": [],
   "source": [
    "import numpy as np\n",
    "%matplotlib inline\n",
    "from matplotlib import pyplot as plt\n",
    "\n",
    "import image_sim as imsim\n",
    "from convenience_"
   ]
  },
  {
   "cell_type": "code",
   "execution_count": null,
   "id": "dd2bc8ee-b653-4d5e-a94f-40e3edd46bf7",
   "metadata": {},
   "outputs": [],
   "source": [
    "plt.style.use('guide.mplstyle')"
   ]
  },
  {
   "cell_type": "code",
   "execution_count": null,
   "id": "796f72ad-1a22-48a7-bec7-0f3f965be44e",
   "metadata": {},
   "outputs": [],
   "source": [
    "image = np.zeros([500, 500])\n",
    "gain = 1.0\n",
    "noise_amount = 150"
   ]
  },
  {
   "cell_type": "code",
   "execution_count": null,
   "id": "73f5ec91-799d-49fc-bf07-6d5646083c34",
   "metadata": {},
   "outputs": [],
   "source": [
    "gain = 1.0\n",
    "star_exposure = 30.0\n",
    "dark_exposure = 60.0\n",
    "dark = 0.1\n",
    "sky_counts = 20\n",
    "bias_level = 1100\n",
    "read_noise_electrons = 1500\n",
    "max_star_counts = 10000"
   ]
  },
  {
   "cell_type": "code",
   "execution_count": null,
   "id": "aa6d7bfe-9a98-4fef-a12c-267ca8a21196",
   "metadata": {},
   "outputs": [],
   "source": [
    "flat = imsim.sensitivity_variations(image)"
   ]
  },
  {
   "cell_type": "code",
   "execution_count": null,
   "id": "bd3a3489-c1de-4494-bb26-c577b9b62148",
   "metadata": {},
   "outputs": [],
   "source": [
    "real_stars      = imsim.stars(image, 10, max_counts=max_star_counts)\n",
    "realistic_stars = (real_stars +\n",
    "                   imsim.dark_current(image, dark, star_exposure, gain=gain, hot_pixels=True) +\n",
    "                   imsim.bias(image, bias_level, realistic=True) +\n",
    "                   imsim.read_noise(image, read_noise_electrons, gain=gain)\n",
    "                  )"
   ]
  },
  {
   "cell_type": "code",
   "execution_count": null,
   "id": "9fd2a650-9985-4c73-9805-b1d573966828",
   "metadata": {},
   "outputs": [],
   "source": [
    "def bias_and_dark(image):\n",
    "    bias_with_noise = (imsim.bias(image, bias_level, realistic=True) +\n",
    "                       imsim.read_noise(image, read_noise_electrons, gain=gain))\n",
    "    dark_with_noise = (imsim.bias(image, bias_level, realistic=True) +\n",
    "                             imsim.dark_current(image, dark, dark_exposure, gain=gain, hot_pixels=True) +\n",
    "                             imsim.read_noise(image, read_noise_electrons, gain=gain))\n",
    "    return (bias_with_noise, dark_with_noise)"
   ]
  },
  {
   "cell_type": "code",
   "execution_count": null,
   "id": "71158c3b-c7db-4867-9f99-966804fe1e74",
   "metadata": {
    "jupyter": {
     "source_hidden": true
    }
   },
   "outputs": [],
   "source": [
    "percu=99.9\n",
    "fig, axes = plt.subplots(3, 2, figsize=(60,50))\n",
    "\n",
    "show_image(real_stars, cmap='gray', percu=percu, fig=fig, ax=axes[0,0])\n",
    "calibrated_stars = realistic_stars\n",
    "show_image(calibrated_stars, cmap='gray', percu=percu, fig=fig, ax=axes[0,1])\n",
    "\n",
    "for row in range(1,3):\n",
    "    for col in range(2):\n",
    "        ax = axes[row,col]\n",
    "        (f_bias,f_dark) = bias_and_dark(image=image)\n",
    "        scaled_dark_current = star_exposure * (f_dark - f_bias) / dark_exposure\n",
    "        calibrated_stars = (calibrated_stars - f_bias - scaled_dark_current) / flat\n",
    "\n",
    "        show_image(calibrated_stars, cmap='gray', percu=percu, fig=fig, ax=ax)"
   ]
  },
  {
   "cell_type": "code",
   "execution_count": null,
   "id": "41f9cef1-97dd-48a4-b381-4e55fafbc7a8",
   "metadata": {},
   "outputs": [],
   "source": []
  }
 ],
 "metadata": {
  "kernelspec": {
   "display_name": "Python 3 (ipykernel)",
   "language": "python",
   "name": "python3"
  },
  "language_info": {
   "codemirror_mode": {
    "name": "ipython",
    "version": 3
   },
   "file_extension": ".py",
   "mimetype": "text/x-python",
   "name": "python",
   "nbconvert_exporter": "python",
   "pygments_lexer": "ipython3",
   "version": "3.10.13"
  }
 },
 "nbformat": 4,
 "nbformat_minor": 5
}
