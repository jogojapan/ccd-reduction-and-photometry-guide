{
 "cells": [
  {
   "cell_type": "code",
   "execution_count": null,
   "id": "6b16c7fc-fdc4-4f5b-8709-f35d050a146f",
   "metadata": {},
   "outputs": [],
   "source": [
    "import numpy as np\n",
    "%matplotlib inline\n",
    "from matplotlib import pyplot as plt"
   ]
  },
  {
   "cell_type": "code",
   "execution_count": null,
   "id": "359d5cd4-2d1e-4bd0-995e-3cd0750ad6ef",
   "metadata": {},
   "outputs": [],
   "source": [
    "x = np.linspace(0,10,500)\n",
    "y1 = x\n",
    "y2 = x**2\n",
    "#plt.rc('font',size=8)\n",
    "fig, ax = plt.subplots(1,2, figsize=(20,10))\n",
    "ax[0].plot(x, y1)\n",
    "ax[1].plot(x, y2)"
   ]
  }
 ],
 "metadata": {
  "kernelspec": {
   "display_name": "Python 3 (ipykernel)",
   "language": "python",
   "name": "python3"
  },
  "language_info": {
   "codemirror_mode": {
    "name": "ipython",
    "version": 3
   },
   "file_extension": ".py",
   "mimetype": "text/x-python",
   "name": "python",
   "nbconvert_exporter": "python",
   "pygments_lexer": "ipython3",
   "version": "3.10.13"
  }
 },
 "nbformat": 4,
 "nbformat_minor": 5
}
