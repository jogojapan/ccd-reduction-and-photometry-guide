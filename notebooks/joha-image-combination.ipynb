{
 "cells": [
  {
   "cell_type": "code",
   "execution_count": 6,
   "id": "afa52a73-a477-4f22-8078-aeb8e4c443d1",
   "metadata": {},
   "outputs": [],
   "source": [
    "import numpy as np\n",
    "from numpy import random\n",
    "\n",
    "rng = random.default_rng(23)"
   ]
  },
  {
   "cell_type": "code",
   "execution_count": 15,
   "id": "90593c56-011c-428b-a409-08b9b9bf9207",
   "metadata": {},
   "outputs": [
    {
     "name": "stdout",
     "output_type": "stream",
     "text": [
      "[[ 34.66174242  49.09216524 106.34418033]\n",
      " [ 30.1465118   17.57716952  41.46381737]\n",
      " [ 86.13875961  90.70231024  25.68025474]]\n"
     ]
    }
   ],
   "source": [
    "matrix = rng.normal(50,20,size=(3,3))\n",
    "print(matrix)"
   ]
  },
  {
   "cell_type": "code",
   "execution_count": 16,
   "id": "a29f517c-00aa-484f-8c09-a5768757b5cb",
   "metadata": {},
   "outputs": [
    {
     "name": "stdout",
     "output_type": "stream",
     "text": [
      "[[ True False False]\n",
      " [ True  True False]\n",
      " [False False  True]]\n"
     ]
    }
   ],
   "source": [
    "exclude = (matrix < 40)\n",
    "print(exclude)"
   ]
  },
  {
   "cell_type": "code",
   "execution_count": 18,
   "id": "170d75cc-e240-412f-84f1-091d036094c3",
   "metadata": {},
   "outputs": [
    {
     "name": "stdout",
     "output_type": "stream",
     "text": [
      "[34.66174242 30.1465118  17.57716952 25.68025474]\n"
     ]
    }
   ],
   "source": [
    "print(matrix[exclude])"
   ]
  },
  {
   "cell_type": "code",
   "execution_count": 20,
   "id": "1fa87d04-2851-4d2d-89c5-91163f4446d5",
   "metadata": {},
   "outputs": [
    {
     "name": "stdout",
     "output_type": "stream",
     "text": [
      "[[         nan  49.09216524 106.34418033]\n",
      " [         nan          nan  41.46381737]\n",
      " [ 86.13875961  90.70231024          nan]]\n"
     ]
    }
   ],
   "source": [
    "orig = matrix[exclude]\n",
    "matrix[exclude] = np.nan\n",
    "\n",
    "print(matrix)"
   ]
  },
  {
   "cell_type": "code",
   "execution_count": 24,
   "id": "5808d0ff-9410-4e5d-8248-4342f5d1eb34",
   "metadata": {},
   "outputs": [
    {
     "name": "stdout",
     "output_type": "stream",
     "text": [
      "[86.13875961 69.89723774 73.90399885]\n",
      "[77.71817278 41.46381737 88.42053492]\n"
     ]
    }
   ],
   "source": [
    "new0 = np.nanmean(matrix, axis=0)\n",
    "new1 = np.nanmean(matrix, axis=1)\n",
    "print(new0)\n",
    "print(new1)"
   ]
  },
  {
   "cell_type": "code",
   "execution_count": 40,
   "id": "2465be6f-b499-46e2-aac7-17f2cb1d09dc",
   "metadata": {},
   "outputs": [],
   "source": [
    "tm = [[1,1,1],[3,3,3],[5,5,9]]"
   ]
  },
  {
   "cell_type": "code",
   "execution_count": 31,
   "id": "9a44d5b6-c66e-4f7c-bdd3-0ed65a1d6faf",
   "metadata": {},
   "outputs": [
    {
     "name": "stdout",
     "output_type": "stream",
     "text": [
      "[3. 3. 3.]\n"
     ]
    }
   ],
   "source": [
    "print(np.mean(tm,axis=0))"
   ]
  },
  {
   "cell_type": "code",
   "execution_count": 41,
   "id": "0ffed5d4-f46a-4cf7-a4a8-bda90e5be4f5",
   "metadata": {},
   "outputs": [
    {
     "name": "stdout",
     "output_type": "stream",
     "text": [
      "[2. 2. 2.]\n"
     ]
    }
   ],
   "source": [
    "print(np.median(np.absolute(tm - np.median(tm,axis=0)),axis=0))"
   ]
  }
 ],
 "metadata": {
  "kernelspec": {
   "display_name": "Python 3 (ipykernel)",
   "language": "python",
   "name": "python3"
  },
  "language_info": {
   "codemirror_mode": {
    "name": "ipython",
    "version": 3
   },
   "file_extension": ".py",
   "mimetype": "text/x-python",
   "name": "python",
   "nbconvert_exporter": "python",
   "pygments_lexer": "ipython3",
   "version": "3.10.13"
  }
 },
 "nbformat": 4,
 "nbformat_minor": 5
}
