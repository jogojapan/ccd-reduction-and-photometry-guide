{
 "cells": [
  {
   "cell_type": "markdown",
   "id": "76e404e5-f7d5-469e-bcfd-3176d167de09",
   "metadata": {},
   "source": [
    "## Removing Dark Current and Bias Iteratively\n",
    "\n",
    "Below we demonstrate how a 200x200 image with a few stars, plus noise, dark current and bias, changes when the dark current and the bias are removed repeatedly, each time with fresh random noise."
   ]
  },
  {
   "cell_type": "code",
   "execution_count": null,
   "id": "90a80150-a683-44dd-8dae-59f263673986",
   "metadata": {},
   "outputs": [],
   "source": [
    "import numpy as np\n",
    "%matplotlib inline\n",
    "from matplotlib import pyplot as plt\n",
    "\n",
    "import image_sim as imsim\n",
    "from convenience_functions import show_image"
   ]
  },
  {
   "cell_type": "code",
   "execution_count": null,
   "id": "25440710-357d-4fb0-981c-a3247e7c7c15",
   "metadata": {},
   "outputs": [],
   "source": [
    "plt.style.use('guide.mplstyle')"
   ]
  },
  {
   "cell_type": "code",
   "execution_count": null,
   "id": "efe65d41-e3a3-40fd-ab6e-6b5c47c8c67b",
   "metadata": {},
   "outputs": [],
   "source": [
    "image = np.zeros([500, 500])\n",
    "gain = 1.0\n",
    "noise_amount = 150"
   ]
  },
  {
   "cell_type": "code",
   "execution_count": null,
   "id": "ec3beef4-8bd9-498e-8b30-df65c77f74ad",
   "metadata": {},
   "outputs": [],
   "source": [
    "gain = 1.0\n",
    "star_exposure = 30.0\n",
    "dark_exposure = 60.0\n",
    "dark = 0.1\n",
    "sky_counts = 20\n",
    "bias_level = 1100\n",
    "read_noise_electrons = 1500\n",
    "max_star_counts = 10000"
   ]
  },
  {
   "cell_type": "code",
   "execution_count": null,
   "id": "0cd196a3-81c1-44f4-91e2-54f5f54088a0",
   "metadata": {},
   "outputs": [],
   "source": [
    "flat = imsim.sensitivity_variations(image)"
   ]
  },
  {
   "cell_type": "code",
   "execution_count": null,
   "id": "9086c4a6-148d-448d-943b-de186705e297",
   "metadata": {},
   "outputs": [],
   "source": [
    "real_stars      = imsim.stars(image, 10, max_counts=max_star_counts)\n",
    "realistic_stars = (real_stars +\n",
    "                   imsim.dark_current(image, dark, star_exposure, gain=gain, hot_pixels=True) +\n",
    "                   imsim.bias(image, bias_level, realistic=True) +\n",
    "                   imsim.read_noise(image, read_noise_electrons, gain=gain)\n",
    "                  )"
   ]
  },
  {
   "cell_type": "code",
   "execution_count": null,
   "id": "92574acd-5374-4f69-8438-b347a39d637d",
   "metadata": {},
   "outputs": [],
   "source": [
    "def bias_and_dark(image):\n",
    "    bias_with_noise = (imsim.bias(image, bias_level, realistic=True) +\n",
    "                       imsim.read_noise(image, read_noise_electrons, gain=gain))\n",
    "    dark_with_noise = (imsim.bias(image, bias_level, realistic=True) +\n",
    "                             imsim.dark_current(image, dark, dark_exposure, gain=gain, hot_pixels=True) +\n",
    "                             imsim.read_noise(image, read_noise_electrons, gain=gain))\n",
    "    return (bias_with_noise, dark_with_noise)"
   ]
  },
  {
   "cell_type": "markdown",
   "id": "d204e328-49f5-4c5a-ad70-95d492f8f41f",
   "metadata": {},
   "source": [
    "Below we generate three rows of images. The first row shows just the stars on the left, and the stars plus noise, dark current and bias on the right. In the second and third row, we remove the dark current and bias, first once, then twice and so on. Each removal also adds fresh noise, so there is a balance between removing too little and removing too much."
   ]
  },
  {
   "cell_type": "code",
   "execution_count": null,
   "id": "8ff2a7cb-12a5-4fa4-9986-92c130019496",
   "metadata": {},
   "outputs": [],
   "source": [
    "percu=99.9\n",
    "fig, axes = plt.subplots(3, 2, figsize=(60,50))\n",
    "\n",
    "show_image(real_stars, cmap='gray', percu=percu, fig=fig, ax=axes[0,0])\n",
    "calibrated_stars = realistic_stars\n",
    "show_image(calibrated_stars, cmap='gray', percu=percu, fig=fig, ax=axes[0,1])\n",
    "\n",
    "for row in range(1,3):\n",
    "    for col in range(2):\n",
    "        ax = axes[row,col]\n",
    "        (f_bias,f_dark) = bias_and_dark(image=image)\n",
    "        scaled_dark_current = star_exposure * (f_dark - f_bias) / dark_exposure\n",
    "        calibrated_stars = (calibrated_stars - f_bias - scaled_dark_current) / flat\n",
    "\n",
    "        show_image(calibrated_stars, cmap='gray', percu=percu, fig=fig, ax=ax)"
   ]
  }
 ],
 "metadata": {
  "kernelspec": {
   "display_name": "Python 3 (ipykernel)",
   "language": "python",
   "name": "python3"
  },
  "language_info": {
   "codemirror_mode": {
    "name": "ipython",
    "version": 3
   },
   "file_extension": ".py",
   "mimetype": "text/x-python",
   "name": "python",
   "nbconvert_exporter": "python",
   "pygments_lexer": "ipython3",
   "version": "3.10.13"
  }
 },
 "nbformat": 4,
 "nbformat_minor": 5
}
