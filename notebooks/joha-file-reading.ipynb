{
 "cells": [
  {
   "cell_type": "code",
   "execution_count": null,
   "id": "bdfb544a-98a8-4add-891f-0a4e7b1ffaa8",
   "metadata": {},
   "outputs": [],
   "source": [
    "from pathlib import Path\n",
    "from astropy.nddata import CCDData\n",
    "from astropy.io import fits\n",
    "from itertools import cycle\n",
    "import numpy as np\n",
    "\n",
    "data_directory = './'"
   ]
  },
  {
   "cell_type": "code",
   "execution_count": null,
   "id": "0e424424-5c27-4276-a31f-425ac1cbfbf1",
   "metadata": {},
   "outputs": [],
   "source": [
    "image_path = Path(data_directory)\n",
    "image_path.mkdir(parents=True, exist_ok=True)\n",
    "\n",
    "images_to_generate = {\n",
    "    'BIAS': 5,\n",
    "    'DARK': 10,\n",
    "    'FLAT': 3,\n",
    "    'LIGHT': 10\n",
    "}\n",
    "\n",
    "exposure_times = {\n",
    "    'BIAS': [0.0],\n",
    "    'DARK': [5.0, 30.0],\n",
    "    'FLAT': [5.0, 6.1, 7.3],\n",
    "    'LIGHT': [30.0],\n",
    "}\n",
    "\n",
    "filters = {\n",
    "    'FLAT': 'V',\n",
    "    'LIGHT': 'V'\n",
    "}\n",
    "\n",
    "objects = {\n",
    "    'LIGHT': ['m82', 'xx cyg']\n",
    "}\n",
    "\n",
    "image_size = [300, 200]"
   ]
  },
  {
   "cell_type": "code",
   "execution_count": null,
   "id": "b1783de2-a85c-4dc9-9916-5c13a112464d",
   "metadata": {},
   "outputs": [],
   "source": [
    "image_number = 0\n",
    "for image_type, num in images_to_generate.items():\n",
    "    exposures = cycle(exposure_times[image_type])\n",
    "    try:\n",
    "        filts = cycle(filters[image_type])\n",
    "    except KeyError:\n",
    "        filts = []\n",
    "    \n",
    "    try:\n",
    "        objs = cycle(objects[image_type])\n",
    "    except KeyError:\n",
    "        objs = []\n",
    "    for _ in range(num):\n",
    "        img = CCDData(data=np.random.randn(*image_size), unit='adu')\n",
    "        img.meta['IMAGETYP'] = image_type\n",
    "        img.meta['EXPOSURE'] = next(exposures)\n",
    "        if filts:\n",
    "            img.meta['FILTER'] = next(filts)\n",
    "        if objs:\n",
    "            img.meta['OBJECT'] = next(objs)\n",
    "        image_name = str(image_path / f'img-{image_number:04d}.fits')\n",
    "        img.write(image_name)\n",
    "        print(image_name)\n",
    "        image_number += 1"
   ]
  },
  {
   "cell_type": "code",
   "execution_count": null,
   "id": "e0e4ef4c-7df7-4fb5-bb28-1a6f2099f26e",
   "metadata": {},
   "outputs": [],
   "source": [
    "image_name = 'img-0001.fits'\n",
    "\n",
    "image_path = Path(data_directory) / image_name\n",
    "\n",
    "hdu_list = fits.open(image_path)\n",
    "hdu_list.info()"
   ]
  },
  {
   "cell_type": "code",
   "execution_count": null,
   "id": "8862d761-ab49-4f60-9392-09767bcd1683",
   "metadata": {},
   "outputs": [],
   "source": [
    "hdu = hdu_list[0]\n",
    "hdu.header"
   ]
  },
  {
   "cell_type": "code",
   "execution_count": null,
   "id": "e1737071-1c89-4049-88ef-55dd83abeacd",
   "metadata": {},
   "outputs": [],
   "source": [
    "hdu.data"
   ]
  },
  {
   "cell_type": "code",
   "execution_count": null,
   "id": "26ca59ea-7a9c-4167-832f-43600c6a6aac",
   "metadata": {},
   "outputs": [],
   "source": [
    "ccd = CCDData.read(image_path)"
   ]
  },
  {
   "cell_type": "code",
   "execution_count": null,
   "id": "8a4e01b6-f07f-4aae-b62b-155a36486163",
   "metadata": {},
   "outputs": [],
   "source": [
    "ccd.header"
   ]
  },
  {
   "cell_type": "code",
   "execution_count": null,
   "id": "fc10e6e9-ab95-4e5e-9050-1a0217f81099",
   "metadata": {},
   "outputs": [],
   "source": [
    "ccd.data"
   ]
  },
  {
   "cell_type": "code",
   "execution_count": null,
   "id": "b67646a8-f4f7-4546-90d8-0a784c39af8c",
   "metadata": {},
   "outputs": [],
   "source": [
    "from ccdproc import ImageFileCollection\n",
    "im_collection = ImageFileCollection(data_directory)"
   ]
  },
  {
   "cell_type": "code",
   "execution_count": null,
   "id": "eb4a36eb-fa2f-44d1-b840-249cc4ef0f3f",
   "metadata": {},
   "outputs": [],
   "source": [
    "im_collection.summary"
   ]
  },
  {
   "cell_type": "code",
   "execution_count": null,
   "id": "893828d1-51b9-455b-9f27-469ad8c0a61d",
   "metadata": {},
   "outputs": [],
   "source": [
    "for a_flat, fname in im_collection.hdus(imagetyp='LIGHT', object='m82', return_fname=True):\n",
    "    print(f'In file {fname} the exposure is:', a_flat.header['EXPOSURE'], 'with standard deviation ', a_flat.data.std())"
   ]
  },
  {
   "cell_type": "code",
   "execution_count": null,
   "id": "487fb746-4c5e-471f-9e81-4766a8f1b80a",
   "metadata": {},
   "outputs": [],
   "source": [
    "for a_flat, fname in im_collection.ccds(bunit='ADU', return_fname=True):\n",
    "    print(a_flat.unit)"
   ]
  },
  {
   "cell_type": "code",
   "execution_count": null,
   "id": "affafe0b-f2ef-4eab-b580-e88da1e81307",
   "metadata": {},
   "outputs": [],
   "source": [
    "a_flat.header"
   ]
  },
  {
   "cell_type": "code",
   "execution_count": null,
   "id": "2612f441-1da5-4554-bb9f-11eb3e0fda18",
   "metadata": {},
   "outputs": [],
   "source": [
    "%matplotlib inline\n",
    "import matplotlib.pyplot as plt\n",
    "plt.style.use('guide.mplstyle')\n",
    "\n",
    "from astropy.nddata import CCDData\n",
    "from astropy.visualization import hist\n",
    "\n",
    "import numpy as np\n",
    "\n",
    "from convenience_functions import show_image"
   ]
  },
  {
   "cell_type": "code",
   "execution_count": null,
   "id": "672f2d98-b663-4854-8e04-c37aff4aa654",
   "metadata": {},
   "outputs": [],
   "source": [
    "one_bias = CCDData.read('single_bias_thermoelectric.fit.bz2', unit='adu')\n",
    "one_hundred_bias = CCDData.read('combined_bias_100_images.fit.bz2', unit='adu')"
   ]
  },
  {
   "cell_type": "code",
   "execution_count": null,
   "id": "28690307-4c61-437c-9bde-bb8d289f481d",
   "metadata": {},
   "outputs": [],
   "source": [
    "fig, (ax_1_bias, ax_avg_bias) = plt.subplots(1, 2, figsize=(30, 15))\n",
    "\n",
    "show_image(one_bias.data, cmap='gray', ax=ax_1_bias, fig=fig, input_ratio=8)\n",
    "ax_1_bias.set_title('Single bias image')\n",
    "show_image(one_hundred_bias.data, cmap='gray', ax=ax_avg_bias, fig=fig, input_ratio=8)\n",
    "ax_avg_bias.set_title('100 bias images combined');"
   ]
  },
  {
   "cell_type": "code",
   "execution_count": null,
   "id": "a56efbcf-d9a7-46bd-baaa-013897f549f2",
   "metadata": {},
   "outputs": [],
   "source": [
    "plt.figure(figsize=(20,10))\n",
    "hist(one_bias.data[:, 15:-30].flatten(), bins=800, alpha=0.4, label='One bias', color='deepskyblue')\n",
    "hist(np.concatenate((one_bias.data[:, :15].flatten(), one_bias.data[:, -30:].flatten())), bins=400, alpha=0.2, label='One bias (edges only)', color='lightskyblue')\n",
    "#hist(, bins=800, alpha=0.2, label='One bias (edges only)', color='darkblue')\n",
    "hist(one_hundred_bias.data[:, 15:-30].flatten(), bins=800, alpha=0.4, label='One hundred bias images', color='darkgreen')\n",
    "hist(np.concatenate((one_hundred_bias.data[:, :15].flatten(), one_hundred_bias.data[:, -30:].flatten())), bins=800, alpha=0.4, label='One hundred bias images (edges only)', color='lightgreen')\n",
    "\n",
    "#hist(one_hundred_bias.data[:, :15].flatten(), bins=800, alpha=0.4, label='One hundred bias images', color='darkgreen')\n",
    "\n",
    "plt.grid()\n",
    "plt.xlim(975, 1400)\n",
    "plt.legend()\n",
    "plt.xlabel('Pixel value')\n",
    "plt.ylabel('Number of pixels')\n",
    "plt.semilogy();"
   ]
  },
  {
   "cell_type": "code",
   "execution_count": null,
   "id": "8bb6a22d-9948-4fc5-a1e4-ff26212a7952",
   "metadata": {},
   "outputs": [],
   "source": []
  }
 ],
 "metadata": {
  "kernelspec": {
   "display_name": "Python 3 (ipykernel)",
   "language": "python",
   "name": "python3"
  },
  "language_info": {
   "codemirror_mode": {
    "name": "ipython",
    "version": 3
   },
   "file_extension": ".py",
   "mimetype": "text/x-python",
   "name": "python",
   "nbconvert_exporter": "python",
   "pygments_lexer": "ipython3",
   "version": "3.10.13"
  }
 },
 "nbformat": 4,
 "nbformat_minor": 5
}
