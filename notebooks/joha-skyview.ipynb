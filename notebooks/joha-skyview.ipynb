{
 "cells": [
  {
   "cell_type": "code",
   "execution_count": null,
   "id": "9aebb7c2-84ad-4ecf-b13e-4381400b236e",
   "metadata": {},
   "outputs": [],
   "source": [
    "from astroquery.esa.hubble import ESAHubble\n",
    "from astropy.coordinates import SkyCoord\n",
    "from astropy import units as u\n",
    "\n",
    "esahubble = ESAHubble()"
   ]
  },
  {
   "cell_type": "code",
   "execution_count": null,
   "id": "61183fba-a603-4546-9b25-8a4b05da473a",
   "metadata": {},
   "outputs": [],
   "source": [
    "# Search around Mizar in Ursa Major\n",
    "c = SkyCoord(\"13h23m55.54048s +54d55m31.2671s\", frame='icrs')\n",
    "r = 5 * u.arcsecond"
   ]
  },
  {
   "cell_type": "code",
   "execution_count": null,
   "id": "bfa405dc-a07b-421c-aea1-b91d1eef63ba",
   "metadata": {},
   "outputs": [],
   "source": [
    "table = esahubble.cone_search(coordinates=c, radius=r, filename=\"cone_search_mizar.vot.gz\")"
   ]
  },
  {
   "cell_type": "code",
   "execution_count": null,
   "id": "a5076811-8c2a-4083-8f85-af139a9ccfb7",
   "metadata": {},
   "outputs": [],
   "source": [
    "esahubble.download_product(observation_id=\"j6fl25s4q\", calibration_level=\"RAW\",\n",
    "                           filename=\"raw_data_for_j6fl25s4q\")"
   ]
  },
  {
   "cell_type": "code",
   "execution_count": null,
   "id": "7bbc4520-aaf0-4c1b-a047-daf92ac6d3db",
   "metadata": {},
   "outputs": [],
   "source": [
    "from astroquery.skyview import SkyView"
   ]
  },
  {
   "cell_type": "code",
   "execution_count": null,
   "id": "988bbbd6-4025-471d-bf8a-81bb36a05e42",
   "metadata": {},
   "outputs": [],
   "source": [
    "SkyView.list_surveys()"
   ]
  },
  {
   "cell_type": "code",
   "execution_count": null,
   "id": "e46c9df3-06a9-4145-a852-e526780f10d0",
   "metadata": {},
   "outputs": [],
   "source": [
    "paths = SkyView.get_images(position='Zeta Ursae Majoris',\n",
    "                           survey=['DSS'])"
   ]
  },
  {
   "cell_type": "code",
   "execution_count": null,
   "id": "ccb9e0b4-7f4d-44d3-ad9c-45e7a8298982",
   "metadata": {},
   "outputs": [],
   "source": [
    "print(paths[0])"
   ]
  },
  {
   "cell_type": "code",
   "execution_count": null,
   "id": "3d56323f-92f9-47ce-ac5b-a9f7d0515c67",
   "metadata": {},
   "outputs": [],
   "source": [
    "for path in paths:\n",
    "    print(path.info())"
   ]
  },
  {
   "cell_type": "code",
   "execution_count": null,
   "id": "91b0ed3c-015e-4e61-bf03-adce2f0f6a92",
   "metadata": {},
   "outputs": [],
   "source": [
    "hdu = paths[0].pop()"
   ]
  },
  {
   "cell_type": "code",
   "execution_count": null,
   "id": "4cc57da3-f21a-4023-8f9a-9f1712e0861f",
   "metadata": {},
   "outputs": [],
   "source": [
    "print(hdu)"
   ]
  },
  {
   "cell_type": "code",
   "execution_count": null,
   "id": "b75ee69f-24ca-4ff0-8178-6a2cbd358427",
   "metadata": {},
   "outputs": [],
   "source": [
    "from astropy.nddata import CCDData\n",
    "import numpy as np\n",
    "from matplotlib import pyplot as plt"
   ]
  },
  {
   "cell_type": "code",
   "execution_count": null,
   "id": "5e5a7b8f-6033-41ca-a970-00a8f1a9ed7d",
   "metadata": {},
   "outputs": [],
   "source": [
    "D = CCDData(hdu.data, unit='count')"
   ]
  },
  {
   "cell_type": "code",
   "execution_count": null,
   "id": "289ce885-35f1-4e45-89d6-885a0c6982c8",
   "metadata": {},
   "outputs": [],
   "source": [
    "print(D.shape)\n",
    "plt.imshow(D)"
   ]
  },
  {
   "cell_type": "code",
   "execution_count": null,
   "id": "e7dfe078-9c78-4886-bfe8-6ce9027b07e4",
   "metadata": {},
   "outputs": [],
   "source": [
    "paths = SkyView.get_image_list(position='Zeta Ursae Majoris',\n",
    "                           survey=['SDSSg','SDSSi','SDSSr','SDSSu','SDSSz','SDSSdr7g','SDSSdr7i',\n",
    "                                   'SDSSdr7r','SDSSdr7u','SDSSdr7z'])\n",
    "print(paths)"
   ]
  }
 ],
 "metadata": {
  "kernelspec": {
   "display_name": "Python 3 (ipykernel)",
   "language": "python",
   "name": "python3"
  },
  "language_info": {
   "codemirror_mode": {
    "name": "ipython",
    "version": 3
   },
   "file_extension": ".py",
   "mimetype": "text/x-python",
   "name": "python",
   "nbconvert_exporter": "python",
   "pygments_lexer": "ipython3",
   "version": "3.10.13"
  }
 },
 "nbformat": 4,
 "nbformat_minor": 5
}
