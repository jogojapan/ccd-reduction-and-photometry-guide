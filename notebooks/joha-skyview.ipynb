{
 "cells": [
  {
   "cell_type": "code",
   "execution_count": null,
   "id": "9aebb7c2-84ad-4ecf-b13e-4381400b236e",
   "metadata": {},
   "outputs": [],
   "source": [
    "# from astroquery import skyview\n",
    "from astroquery.skyview import SkyView\n",
    "from astropy.wcs import WCS\n",
    "from astropy import visualization as aviz\n",
    "from astropy.coordinates import SkyCoord\n",
    "from astropy import units as u"
   ]
  },
  {
   "cell_type": "code",
   "execution_count": null,
   "id": "b75ee69f-24ca-4ff0-8178-6a2cbd358427",
   "metadata": {},
   "outputs": [],
   "source": [
    "from astropy.nddata import CCDData\n",
    "import numpy as np\n",
    "from matplotlib import pyplot as plt"
   ]
  },
  {
   "cell_type": "code",
   "execution_count": null,
   "id": "61183fba-a603-4546-9b25-8a4b05da473a",
   "metadata": {},
   "outputs": [],
   "source": [
    "# Search around Mizar in Ursa Major\n",
    "# c = SkyCoord(\"13h23m55.54048s +54d55m31.2671s\", frame='icrs')\n",
    "# r = 40 * u.arcminute\n",
    "\n",
    "# Search around Algol\n",
    "c = SkyCoord(\"03h08m10.13245s +40d57m20.3280s\", frame='icrs')\n",
    "r = 10 * u.arcminute"
   ]
  },
  {
   "cell_type": "code",
   "execution_count": null,
   "id": "988bbbd6-4025-471d-bf8a-81bb36a05e42",
   "metadata": {},
   "outputs": [],
   "source": [
    "SkyView.list_surveys()"
   ]
  },
  {
   "cell_type": "code",
   "execution_count": null,
   "id": "e7dfe078-9c78-4886-bfe8-6ce9027b07e4",
   "metadata": {},
   "outputs": [],
   "source": [
    "paths = SkyView.get_image_list(position='Zeta Ursae Majoris',\n",
    "                           survey=['SDSSg','SDSSi','SDSSr','SDSSu','SDSSz','SDSSdr7g','SDSSdr7i',\n",
    "                                   'SDSSdr7r','SDSSdr7u','SDSSdr7z'])\n",
    "print(paths)"
   ]
  },
  {
   "cell_type": "code",
   "execution_count": null,
   "id": "dfd9c420-f22b-49ff-842e-f3d289b5cbdd",
   "metadata": {},
   "outputs": [],
   "source": [
    "paths = SkyView.get_image_list(position=c, radius=200*u.arcminute,\n",
    "                           survey=['SDSSg','SDSSi','SDSSr','SDSSu','SDSSz','SDSSdr7g','SDSSdr7i',\n",
    "                                   'SDSSdr7r','SDSSdr7u','SDSSdr7z'])\n",
    "print(paths)"
   ]
  },
  {
   "cell_type": "code",
   "execution_count": null,
   "id": "f7cada82-a8ee-4fcd-9732-7bba2b075cdc",
   "metadata": {},
   "outputs": [],
   "source": [
    "imgs = SkyView.get_images(position=c, radius=r,\n",
    "                          survey=['SDSSg','SDSSr','SDSSdr7g','SDSSi']) #,'SDSSu','SDSSz','SDSSdr7i','SDSSdr7r','SDSSdr7u','SDSSdr7z'])\n",
    "hdu_g = imgs[0].pop()\n",
    "hdu_r = imgs[1].pop()\n",
    "hdu_7g = imgs[2].pop()\n",
    "hdu_i = imgs[3].pop()"
   ]
  },
  {
   "cell_type": "code",
   "execution_count": null,
   "id": "5e5a7b8f-6033-41ca-a970-00a8f1a9ed7d",
   "metadata": {},
   "outputs": [],
   "source": [
    "D_g = CCDData(hdu_g.data, unit='count')\n",
    "D_r = CCDData(hdu_r.data, unit='count')\n",
    "D_7g = CCDData(hdu_7g.data, unit='count')\n",
    "D_i = CCDData(hdu_i.data, unit='count')\n",
    "\n",
    "wcs_g = WCS(hdu_g.header)\n",
    "wcs_r = WCS(hdu_r.header)\n",
    "wcs_7g = WCS(hdu_7g.header)\n",
    "wcs_i = WCS(hdu_i.header)"
   ]
  },
  {
   "cell_type": "code",
   "execution_count": null,
   "id": "f408e5e3-0e5a-4b45-ae76-5c3ac94caabb",
   "metadata": {},
   "outputs": [],
   "source": [
    "def show(D, wcs):\n",
    "    # print(D.shape)\n",
    "    norm = aviz.ImageNormalize(D, interval=aviz.AsymmetricPercentileInterval(0,100),\n",
    "                               stretch = aviz.LinearStretch())\n",
    "    scale_args = dict(norm=norm)\n",
    "    plt.subplot(projection=wcs)\n",
    "    plt.imshow(D, cmap='gray',aspect='equal', **scale_args)\n",
    "    plt.grid(color='gray', ls='dotted')"
   ]
  },
  {
   "cell_type": "code",
   "execution_count": null,
   "id": "289ce885-35f1-4e45-89d6-885a0c6982c8",
   "metadata": {},
   "outputs": [],
   "source": [
    "show(D_7g, wcs_7g)"
   ]
  },
  {
   "cell_type": "code",
   "execution_count": null,
   "id": "fb5794d7-87f9-4591-9ed9-19dd2bdac386",
   "metadata": {},
   "outputs": [],
   "source": [
    "hdu = imgs[3].pop()"
   ]
  },
  {
   "cell_type": "code",
   "execution_count": null,
   "id": "e3d2b6fc-830f-4b43-8479-f551cf701fa6",
   "metadata": {},
   "outputs": [],
   "source": [
    "wcs = WCS(hdu.header)\n",
    "print(wcs)"
   ]
  },
  {
   "cell_type": "code",
   "execution_count": null,
   "id": "e46c9df3-06a9-4145-a852-e526780f10d0",
   "metadata": {},
   "outputs": [],
   "source": [
    "paths = SkyView.get_images(position='Zeta Ursae Majoris',\n",
    "                           survey=['DSS'])"
   ]
  },
  {
   "cell_type": "code",
   "execution_count": null,
   "id": "ccb9e0b4-7f4d-44d3-ad9c-45e7a8298982",
   "metadata": {},
   "outputs": [],
   "source": [
    "print(paths[0])"
   ]
  },
  {
   "cell_type": "code",
   "execution_count": null,
   "id": "3d56323f-92f9-47ce-ac5b-a9f7d0515c67",
   "metadata": {},
   "outputs": [],
   "source": [
    "for path in paths:\n",
    "    print(path.info())"
   ]
  },
  {
   "cell_type": "code",
   "execution_count": null,
   "id": "91b0ed3c-015e-4e61-bf03-adce2f0f6a92",
   "metadata": {},
   "outputs": [],
   "source": [
    "hdu = paths[0].pop()"
   ]
  },
  {
   "cell_type": "code",
   "execution_count": null,
   "id": "4cc57da3-f21a-4023-8f9a-9f1712e0861f",
   "metadata": {},
   "outputs": [],
   "source": [
    "print(hdu)"
   ]
  }
 ],
 "metadata": {
  "kernelspec": {
   "display_name": "Python 3 (ipykernel)",
   "language": "python",
   "name": "python3"
  },
  "language_info": {
   "codemirror_mode": {
    "name": "ipython",
    "version": 3
   },
   "file_extension": ".py",
   "mimetype": "text/x-python",
   "name": "python",
   "nbconvert_exporter": "python",
   "pygments_lexer": "ipython3",
   "version": "3.10.13"
  }
 },
 "nbformat": 4,
 "nbformat_minor": 5
}
